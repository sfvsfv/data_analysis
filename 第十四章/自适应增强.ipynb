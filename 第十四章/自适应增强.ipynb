{
 "cells": [
  {
   "cell_type": "code",
   "execution_count": 1,
   "metadata": {},
   "outputs": [
    {
     "data": {
      "text/plain": [
       "array([[ 0.63994726,  0.84832379,  0.14964075, ...,  0.20401277,\n",
       "         0.46849198,  1.4259954 ],\n",
       "       [-0.84488505, -1.12339636, -0.16054575, ..., -0.68442195,\n",
       "        -0.36506078, -0.19067191],\n",
       "       [ 1.23388019,  1.94372388, -0.26394125, ..., -1.10325546,\n",
       "         0.60439732, -0.10558415],\n",
       "       ...,\n",
       "       [ 0.3429808 ,  0.00330087,  0.14964075, ..., -0.73518964,\n",
       "        -0.68519336, -0.27575966],\n",
       "       [-0.84488505,  0.1597866 , -0.47073225, ..., -0.24020459,\n",
       "        -0.37110101,  1.17073215],\n",
       "       [-0.84488505, -0.8730192 ,  0.04624525, ..., -0.20212881,\n",
       "        -0.47378505, -0.87137393]])"
      ]
     },
     "execution_count": 1,
     "metadata": {},
     "output_type": "execute_result"
    }
   ],
   "source": [
    "import pandas as pd\n",
    "data=pd.read_csv('diabete.csv')\n",
    "\n",
    "# 提取数据\n",
    "x=data.drop('class',axis=1) #提取自变量,axis=1表示以列删除；默认删除行\n",
    "y=data['class'] # 提取目标变量\n",
    "\n",
    "# 标准化\n",
    "from sklearn.preprocessing import StandardScaler #导入标准化模块\n",
    "sc = StandardScaler()# 实例化\n",
    "X = sc.fit_transform(x) # 训练集标准化\n",
    "X # 查看训练集标准化的结果"
   ]
  },
  {
   "cell_type": "code",
   "execution_count": 2,
   "metadata": {},
   "outputs": [],
   "source": [
    "from sklearn.model_selection import train_test_split\n",
    "#85%的数据是训练集，25%是测试集。\n",
    "X_train, X_test, y_train, y_test = train_test_split(X, y, test_size = 0.25, random_state=10)"
   ]
  },
  {
   "cell_type": "code",
   "execution_count": 3,
   "metadata": {},
   "outputs": [
    {
     "name": "stdout",
     "output_type": "stream",
     "text": [
      "Accuracy: 0.7447916666666666\n"
     ]
    }
   ],
   "source": [
    "# 直接训练并评估\n",
    "from sklearn.ensemble import AdaBoostClassifier # 导入AdaBoost 模型\n",
    "model = AdaBoostClassifier(n_estimators = 100, learning_rate = 0.2) # 创建模型\n",
    "adaboost=model.fit(X_train, y_train)  # 训练\n",
    "score = adaboost.score(X_test, y_test) # 评估\n",
    "print(\"Accuracy:\",score) # adaboost的准确率"
   ]
  },
  {
   "cell_type": "code",
   "execution_count": 4,
   "metadata": {},
   "outputs": [
    {
     "name": "stdout",
     "output_type": "stream",
     "text": [
      "0.7708853238265003\n"
     ]
    }
   ],
   "source": [
    "# 使用袋装法中提到的K折验证\n",
    "from sklearn.model_selection import cross_val_score # 导入交叉验证\n",
    "scores = cross_val_score(model, X, y, cv=5)\n",
    "acc=scores.mean() # 每一次的平均\n",
    "print(acc) # K折验证结合adaboost的准确率"
   ]
  },
  {
   "cell_type": "code",
   "execution_count": 5,
   "metadata": {},
   "outputs": [
    {
     "data": {
      "text/plain": [
       "0.7734997029114676"
      ]
     },
     "execution_count": 5,
     "metadata": {},
     "output_type": "execute_result"
    }
   ],
   "source": [
    "0.7734997029114676"
   ]
  }
 ],
 "metadata": {
  "kernelspec": {
   "display_name": "Python 3",
   "language": "python",
   "name": "python3"
  },
  "language_info": {
   "codemirror_mode": {
    "name": "ipython",
    "version": 3
   },
   "file_extension": ".py",
   "mimetype": "text/x-python",
   "name": "python",
   "nbconvert_exporter": "python",
   "pygments_lexer": "ipython3",
   "version": "3.7.6"
  }
 },
 "nbformat": 4,
 "nbformat_minor": 4
}
