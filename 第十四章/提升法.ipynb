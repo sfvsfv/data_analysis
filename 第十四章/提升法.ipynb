{
 "cells": [
  {
   "cell_type": "code",
   "execution_count": 1,
   "metadata": {},
   "outputs": [
    {
     "data": {
      "text/plain": [
       "array([[ 0.63994726,  0.84832379,  0.14964075, ...,  0.20401277,\n",
       "         0.46849198,  1.4259954 ],\n",
       "       [-0.84488505, -1.12339636, -0.16054575, ..., -0.68442195,\n",
       "        -0.36506078, -0.19067191],\n",
       "       [ 1.23388019,  1.94372388, -0.26394125, ..., -1.10325546,\n",
       "         0.60439732, -0.10558415],\n",
       "       ...,\n",
       "       [ 0.3429808 ,  0.00330087,  0.14964075, ..., -0.73518964,\n",
       "        -0.68519336, -0.27575966],\n",
       "       [-0.84488505,  0.1597866 , -0.47073225, ..., -0.24020459,\n",
       "        -0.37110101,  1.17073215],\n",
       "       [-0.84488505, -0.8730192 ,  0.04624525, ..., -0.20212881,\n",
       "        -0.47378505, -0.87137393]])"
      ]
     },
     "execution_count": 1,
     "metadata": {},
     "output_type": "execute_result"
    }
   ],
   "source": [
    "import pandas as pd\n",
    "data=pd.read_csv('diabetes.csv')\n",
    "\n",
    "# 提取数据\n",
    "x=data.drop('class',axis=1) #提取自变量,axis=1表示以列删除；默认删除行\n",
    "y=data['class'] # 提取目标变量\n",
    "\n",
    "# 标准化\n",
    "from sklearn.preprocessing import StandardScaler #导入标准化模块\n",
    "sc = StandardScaler()# 实例化\n",
    "X = sc.fit_transform(x) # 训练集标准化\n",
    "X # 查看训练集标准化的结果"
   ]
  },
  {
   "cell_type": "code",
   "execution_count": 2,
   "metadata": {},
   "outputs": [],
   "source": [
    "from sklearn.linear_model import LogisticRegression# 逻辑回归\n",
    "from sklearn.svm import SVC, LinearSVC # 支持向量机\n",
    "from sklearn.tree import DecisionTreeClassifier # 决策树\n",
    "from sklearn.naive_bayes import GaussianNB# 朴素贝叶斯\n",
    "from sklearn.model_selection import cross_val_score # 通过交叉验证评估准确性\n",
    "from sklearn.model_selection import KFold # k折交叉验证\n",
    "kf = KFold(shuffle=True, n_splits=5)# 洗牌，折叠五次\n",
    "from sklearn.ensemble import AdaBoostClassifier #添加boost算法\n"
   ]
  },
  {
   "cell_type": "code",
   "execution_count": 3,
   "metadata": {},
   "outputs": [],
   "source": [
    "models = []\n",
    "models.append((\"逻辑回归\",LogisticRegression()))\n",
    "models.append((\"支持向量机\",SVC()))\n",
    "models.append((\"线性支持向量机\",LinearSVC()))\n",
    "models.append((\"决策树\",DecisionTreeClassifier()))\n",
    "models.append((\"高斯朴素贝叶斯\", GaussianNB()))\n",
    "#n_estimators 学习器数量，base_estimator为估计器选择，还需读者尝试调整\n",
    "models.append((\"boost算法\",AdaBoostClassifier (base_estimator=SVC(),n_estimators =100,algorithm='SAMME')))"
   ]
  },
  {
   "cell_type": "code",
   "execution_count": 4,
   "metadata": {},
   "outputs": [
    {
     "name": "stderr",
     "output_type": "stream",
     "text": [
      "C:\\Users\\hp\\anaconda3\\lib\\site-packages\\sklearn\\svm\\_base.py:1208: ConvergenceWarning: Liblinear failed to converge, increase the number of iterations.\n",
      "  ConvergenceWarning,\n",
      "C:\\Users\\hp\\anaconda3\\lib\\site-packages\\sklearn\\svm\\_base.py:1208: ConvergenceWarning: Liblinear failed to converge, increase the number of iterations.\n",
      "  ConvergenceWarning,\n",
      "C:\\Users\\hp\\anaconda3\\lib\\site-packages\\sklearn\\svm\\_base.py:1208: ConvergenceWarning: Liblinear failed to converge, increase the number of iterations.\n",
      "  ConvergenceWarning,\n",
      "C:\\Users\\hp\\anaconda3\\lib\\site-packages\\sklearn\\svm\\_base.py:1208: ConvergenceWarning: Liblinear failed to converge, increase the number of iterations.\n",
      "  ConvergenceWarning,\n",
      "C:\\Users\\hp\\anaconda3\\lib\\site-packages\\sklearn\\svm\\_base.py:1208: ConvergenceWarning: Liblinear failed to converge, increase the number of iterations.\n",
      "  ConvergenceWarning,\n"
     ]
    },
    {
     "name": "stdout",
     "output_type": "stream",
     "text": [
      "逻辑回归 准确性： 0.7720821661998133\n",
      "支持向量机 准确性： 0.7500551735845853\n",
      "线性支持向量机 准确性： 0.7733893557422968\n",
      "决策树 准确性： 0.7017570664629489\n",
      "高斯朴素贝叶斯 准确性： 0.753823953823954\n",
      "boost算法 准确性： 0.6510143451319921\n"
     ]
    }
   ],
   "source": [
    "results = []\n",
    "names = []\n",
    "for name,model in models:\n",
    "    result = cross_val_score(model, X, y,  cv=kf)# 依次使用k交叉验证\n",
    "    names.append(name) # 模型名字放到name列表\n",
    "    results.append(result) #训练结果放到results列表\n",
    "# 遍历输出\n",
    "for i in range(len(names)):\n",
    "    print(names[i],\"准确度：\",results[i].mean())# 准确性"
   ]
  },
  {
   "cell_type": "code",
   "execution_count": null,
   "metadata": {},
   "outputs": [],
   "source": []
  }
 ],
 "metadata": {
  "kernelspec": {
   "display_name": "Python 3",
   "language": "python",
   "name": "python3"
  },
  "language_info": {
   "codemirror_mode": {
    "name": "ipython",
    "version": 3
   },
   "file_extension": ".py",
   "mimetype": "text/x-python",
   "name": "python",
   "nbconvert_exporter": "python",
   "pygments_lexer": "ipython3",
   "version": "3.7.6"
  }
 },
 "nbformat": 4,
 "nbformat_minor": 4
}
